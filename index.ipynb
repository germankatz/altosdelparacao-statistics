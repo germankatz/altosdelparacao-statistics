{
  "nbformat": 4,
  "nbformat_minor": 0,
  "metadata": {
    "colab": {
      "name": "Datos liga",
      "provenance": [],
      "collapsed_sections": [],
      "authorship_tag": "ABX9TyPOWECr2//NtNPw06C79eeM",
      "include_colab_link": true
    },
    "kernelspec": {
      "name": "python3",
      "display_name": "Python 3"
    },
    "language_info": {
      "name": "python"
    }
  },
  "cells": [
    {
      "cell_type": "markdown",
      "metadata": {
        "id": "view-in-github",
        "colab_type": "text"
      },
      "source": [
        "<a href=\"https://colab.research.google.com/github/germankatz/altosdelparacao-statistics/blob/main/index.ipynb\" target=\"_parent\"><img src=\"https://colab.research.google.com/assets/colab-badge.svg\" alt=\"Open In Colab\"/></a>"
      ]
    },
    {
      "cell_type": "code",
      "source": [
        "# http://www.ligaaltosdelparacao.com/api/zones/6232715048e5ae666545117a\n",
        "# http://www.ligaaltosdelparacao.com/api/matches?matchday=6232726f48e5ae6665451197\n",
        "# http://www.ligaaltosdelparacao.com/zones/6232715048e5ae666545117a"
      ],
      "metadata": {
        "id": "mwLrOPVMo93M"
      },
      "execution_count": null,
      "outputs": []
    },
    {
      "cell_type": "code",
      "execution_count": 1,
      "metadata": {
        "id": "whRP40jSWFbv"
      },
      "outputs": [],
      "source": [
        "# Importamos librerias\n",
        "from urllib.request import urlopen\n",
        "import json\n",
        "import pandas as pd\n",
        "from numpy.ma.core import append\n",
        "import numpy as np\n",
        "import matplotlib.pyplot as plt\n",
        "from collections import defaultdict as ddict\n"
      ]
    },
    {
      "cell_type": "code",
      "source": [
        "zona = \"6232715048e5ae666545117a\"\n",
        "equipo = \"5a94135e7d77b75d359211d5\"\n",
        "nombreEquipo = \"Hamaika\"\n",
        "colorFondo = \"#1b7c3b\"\n",
        "colorDefault = \"#0f5626\"\n",
        "colorHighlight = \"#1daf4c\""
      ],
      "metadata": {
        "id": "C8lwg7awXKBI"
      },
      "execution_count": 2,
      "outputs": []
    },
    {
      "cell_type": "code",
      "source": [
        "# Obtengo equipo y fechas\n",
        "response = urlopen(\"http://www.ligaaltosdelparacao.com/api/zones/\" + zona)\n",
        "\n",
        "json_data = response.read().decode('utf-8', 'replace')\n",
        "d = json.loads(json_data)\n",
        "dfCategoria = pd.json_normalize(d)\n",
        "\n",
        "# Info general de los equipos de la categoría\n",
        "equipos = dfCategoria[\"participations\"][0]\n",
        "dfEquipos = pd.DataFrame(equipos)\n",
        "\n",
        "# Procesamos los equipos para que el id del team aparezca en el dataframe\n",
        "idsEquipos = []\n",
        "for equipoIdx, equipoRow in dfEquipos.iterrows():\n",
        "  idsEquipos.append(equipoRow.team['_id'])\n",
        "dfEquipos['idEquipo'] = idsEquipos"
      ],
      "metadata": {
        "id": "E-5p74BJW-of"
      },
      "execution_count": 3,
      "outputs": []
    },
    {
      "cell_type": "code",
      "source": [
        "# En esta variable se guardarán los partidos del equipo\n",
        "dfPartidosEquipo = []\n",
        "\n",
        "partidosCategoria = pd.DataFrame(dfCategoria[\"matchdays\"][0])\n",
        "partidosPorFecha = []\n",
        "\n",
        "for fechaZonaIdx, fechaZonaRow in partidosCategoria.iterrows():\n",
        "  # Get complete matchday\n",
        "  response = urlopen(\"http://www.ligaaltosdelparacao.com/api/matches?matchday=\" + fechaZonaRow['_id'])\n",
        "  json_data = response.read().decode('utf-8', 'replace')\n",
        "  d = json.loads(json_data)\n",
        "  dfPartidos = pd.json_normalize(d) # Partidos del día\n",
        "  \n",
        "\n",
        "  for partidoIdx, partidoRow in dfPartidos.iterrows():\n",
        "    currentPartido = json.loads(partidoRow.to_json()) # Format\n",
        "    # Guardo los partidos por fecha\n",
        "    partidosPorFecha.append(currentPartido)\n",
        "    # Busco partidos del equipo\n",
        "    if currentPartido[\"local_team._id\"] == equipo or currentPartido[\"visitor_team._id\"] == equipo:\n",
        "      dfPartidosEquipo.append(partidoRow)\n"
      ],
      "metadata": {
        "id": "oxlgOyzNYR5Z"
      },
      "execution_count": 4,
      "outputs": []
    },
    {
      "cell_type": "markdown",
      "source": [
        "Comenzamos con el procesado de datos"
      ],
      "metadata": {
        "id": "4S1p-uBAgj1l"
      }
    },
    {
      "cell_type": "code",
      "source": [
        "#######################\n",
        "#### Goles a favor ####\n",
        "#######################\n",
        "\n",
        "# Mayor cantidad de gol\n",
        "filtradoGoles = dfEquipos.sort_values('own_goals')\n",
        "\n",
        "# Resaltar color hamaika\n",
        "colors = []\n",
        "for indx,eqp in filtradoGoles.iterrows():\n",
        "    if eqp.idEquipo == equipo:\n",
        "        colors.append(colorHighlight)\n",
        "    else:\n",
        "        colors.append(colorDefault)\n",
        "\n",
        "fig, ax = plt.subplots()\n",
        "ax.barh(filtradoGoles['team_name'], filtradoGoles['own_goals'], color=colors)\n",
        "ax.set_facecolor(colorFondo)\n",
        "plt.xlabel(\"Cantidad de goles\")\n",
        "plt.show()\n",
        "\n"
      ],
      "metadata": {
        "colab": {
          "base_uri": "https://localhost:8080/",
          "height": 279
        },
        "id": "bs_7-8ILb0x7",
        "outputId": "7f77c673-c4d6-4ed8-ddbc-3b3e6585fd2b"
      },
      "execution_count": 5,
      "outputs": [
        {
          "output_type": "display_data",
          "data": {
            "text/plain": [
              "<Figure size 432x288 with 1 Axes>"
            ],
            "image/png": "[encoded data removed]"
          },
          "metadata": {
            "needs_background": "light"
          }
        }
      ]
    },
    {
      "cell_type": "code",
      "source": [
        "#######################\n",
        "#### Mayor goleada ####\n",
        "#######################\n",
        "\n",
        "dfPartidosPorFecha = pd.DataFrame(partidosPorFecha)\n",
        "golesDelPartido   = []\n",
        "golesLocales      = []\n",
        "golesVisitantes   = []\n",
        "diferenciaGanador = []\n",
        "\n",
        "for partidoIndx, partidoRow in dfPartidosPorFecha.iterrows():\n",
        "\n",
        "  #Divido por 4 que es la cantidad de items del objeto\n",
        "  golesVisitante = pd.DataFrame(partidoRow.visitor_goals).size/4\n",
        "  golesLocal = pd.DataFrame(partidoRow.local_goals).size/4\n",
        "\n",
        "  golesVisitantes   .append(str(int(golesVisitante)))\n",
        "  golesLocales      .append(str(int(golesLocal)))\n",
        "  golesDelPartido   .append(golesVisitante + golesLocal)\n",
        "  diferenciaGanador .append(abs(golesLocal - golesVisitante))\n",
        "\n",
        "dfPartidosPorFecha['golesTotales']      = golesDelPartido\n",
        "dfPartidosPorFecha['golesLocales']      = golesLocales\n",
        "dfPartidosPorFecha['golesVisitantes']   = golesVisitantes\n",
        "dfPartidosPorFecha['diferenciaGanador'] = diferenciaGanador\n",
        "\n",
        "filtradoPartidoGoles = dfPartidosPorFecha.sort_values('diferenciaGanador', ascending=False) # Ordeno por la diferencia\n",
        "filtradoPartidoGoles = filtradoPartidoGoles.head(n=10) # Corto los primeros 3 mejores partidos\n",
        "filtradoPartidoGoles = filtradoPartidoGoles[::-1] # Reordeno\n",
        "\n",
        "# Resaltar color hamaika\n",
        "colors = []\n",
        "for _, partidoRow in filtradoPartidoGoles.iterrows():\n",
        "    if (partidoRow[\"visitor_team._id\"] == equipo or partidoRow[\"local_team._id\"] == equipo) and partidoRow[\"winner\"] == equipo:\n",
        "        colors.append(colorHighlight)\n",
        "    else:\n",
        "        colors.append(colorDefault)\n",
        "\n",
        "fig, ax = plt.subplots()\n",
        "\n",
        "ax.barh(filtradoPartidoGoles['visitor_team_name'] + \" \" + filtradoPartidoGoles['golesVisitantes']  + \" vs \" + filtradoPartidoGoles['local_team_name'] + \" \" + filtradoPartidoGoles['golesLocales'] , filtradoPartidoGoles['golesTotales'], color=colors)\n",
        "ax.set_facecolor(colorFondo)\n",
        "plt.xlabel(\"Cantidad de gol de diferencia en un partido\")\n",
        "plt.show()\n"
      ],
      "metadata": {
        "colab": {
          "base_uri": "https://localhost:8080/",
          "height": 279
        },
        "id": "dNqZIZOxtHpZ",
        "outputId": "c6c2dbff-4205-4988-97ed-0f4b9b70066d"
      },
      "execution_count": 6,
      "outputs": [
        {
          "output_type": "display_data",
          "data": {
            "text/plain": [
              "<Figure size 432x288 with 1 Axes>"
            ],
            "image/png": "[encoded data removed]"
          },
          "metadata": {
            "needs_background": "light"
          }
        }
      ]
    },
    {
      "cell_type": "code",
      "source": [
        "###############################################\n",
        "#### Distribución de goles entre jugadores ####\n",
        "###############################################\n",
        "\n",
        "\n",
        "golesEquipo = []\n",
        "for partidoIdx, partidoRow in dfPartidosPorFecha.iterrows():\n",
        "  #print(partidoRow)\n",
        "  # Por cada partido me guardo en la columna del equipo el id de los jugadores con goles, despues aplano\n",
        "  golesVisitante = pd.DataFrame(partidoRow.visitor_goals)\n",
        "  golesLocal = pd.DataFrame(partidoRow.local_goals)\n",
        "\n",
        "  if(golesVisitante.size > 0):\n",
        "    nombreEquipoVisitante = partidoRow[\"visitor_team.name\"]\n",
        "    equipoVisitante       = partidoRow[\"visitor_team._id\"] # id del equipo visitante\n",
        "    golesEquipoVisitante  = golesVisitante[\"player\"]\n",
        "\n",
        "    for jugador in golesEquipoVisitante:\n",
        "      golesEquipo.append([nombreEquipoVisitante, equipoVisitante, jugador])\n",
        "\n",
        "  if(golesLocal.size > 0):\n",
        "    nombreEquipoLocal = partidoRow[\"local_team.name\"]\n",
        "    equipoLocal       = partidoRow[\"local_team._id\"] # id del equipo visitante\n",
        "    golesEquipoLocal  = golesLocal[\"player\"]\n",
        "    \n",
        "    for jugador in golesEquipoLocal:\n",
        "      golesEquipo.append([nombreEquipoLocal, equipoLocal, jugador])\n",
        "  \n",
        "\n",
        "# Agrupo por equipos los jugadores\n",
        "agrupadoPorEquipo = ddict(list)\n",
        "for eqp, idEquipo, player in golesEquipo:\n",
        "  agrupadoPorEquipo[eqp].append(player)\n",
        "\n",
        "equipoYGoleadoresUnicos = []\n",
        "for k,v in agrupadoPorEquipo.items():  \n",
        "  jugadoresDiff = set(v)\n",
        "  cantJugadoresDiff = len(jugadoresDiff)\n",
        "  equipoYGoleadoresUnicos.append([k, cantJugadoresDiff])\n",
        "  # print(k, \" con: \", str(cantJugadoresDiff), \" goleadores distintos, total de goles: \", str(len(v)))\n",
        "\n",
        "# Gráfico\n",
        "\n",
        "# Cambio para tenerlo en dataframe\n",
        "dfEquipoYGoleadoresUnicos = pd.DataFrame(equipoYGoleadoresUnicos)\n",
        "dfEquipoYGoleadoresUnicos.columns = ['equipo', 'golesDif']\n",
        "\n",
        "# Ordenamos\n",
        "dfEquipoYGoleadoresUnicos = dfEquipoYGoleadoresUnicos.sort_values('golesDif')\n",
        "\n",
        "# Resaltar color equipo\n",
        "colors = []\n",
        "for _,eqp in dfEquipoYGoleadoresUnicos.iterrows():\n",
        "  if eqp[\"equipo\"] == nombreEquipo:\n",
        "      colors.append(colorHighlight)\n",
        "  else:\n",
        "      colors.append(colorDefault)\n",
        "\n",
        "fig, ax = plt.subplots()\n",
        "ax.barh(dfEquipoYGoleadoresUnicos['equipo'], dfEquipoYGoleadoresUnicos['golesDif'], color=colors)\n",
        "ax.set_facecolor(colorFondo)\n",
        "ax.set_xlim(4,16)\n",
        "plt.xlabel(\"Cantidad de goles de jugadores distintos\")\n",
        "plt.show()"
      ],
      "metadata": {
        "colab": {
          "base_uri": "https://localhost:8080/",
          "height": 279
        },
        "id": "EJ5VfWnhWZYf",
        "outputId": "a83baa13-5e15-4521-bf2e-37e57412859f"
      },
      "execution_count": 7,
      "outputs": [
        {
          "output_type": "display_data",
          "data": {
            "text/plain": [
              "<Figure size 432x288 with 1 Axes>"
            ],
            "image/png": "[encoded data removed]"
          },
          "metadata": {
            "needs_background": "light"
          }
        }
      ]
    },
    {
      "cell_type": "code",
      "source": [
        "##################################\n",
        "#### Ganarle a los n primeros ####\n",
        "##################################\n",
        "\n",
        "# Cantidad de podio y como salio\n",
        "n = 10;\n",
        "\n",
        "# dfPartidosPorFecha tiene todos los partiods\n",
        "# Primero elijo los n primeros\n",
        "\n",
        "# dfEquipos ordernar por:\n",
        "# 1 points \n",
        "# 2 diferencia de gol\n",
        "# 3 goles a favor\n"
      ],
      "metadata": {
        "id": "X9hhL1uMoB5L"
      },
      "execution_count": null,
      "outputs": []
    },
    {
      "cell_type": "code",
      "source": [
        "########################################\n",
        "#### Porcentaje de partidos ganados ####\n",
        "########################################"
      ],
      "metadata": {
        "id": "WjNoEHbGoHvd"
      },
      "execution_count": null,
      "outputs": []
    }
  ]
}